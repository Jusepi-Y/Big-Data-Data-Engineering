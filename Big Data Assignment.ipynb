{
 "cells": [
  {
   "cell_type": "markdown",
   "id": "f0808f8a-c204-4f9c-8060-c583fb2d0562",
   "metadata": {},
   "source": [
    "# Analysis of datasets from hospital management system"
   ]
  },
  {
   "cell_type": "markdown",
   "id": "e9829304-409b-4983-a1dc-b99756619a84",
   "metadata": {
    "tags": []
   },
   "source": [
    "## Synthetic Datasets from kaggle that shows group of patient records on their basic demographic as well as medical parameters"
   ]
  },
  {
   "cell_type": "code",
   "execution_count": 1,
   "id": "570bde50-7d4b-4756-8733-62361240436f",
   "metadata": {
    "tags": []
   },
   "outputs": [],
   "source": [
    "from pyspark.sql import SparkSession"
   ]
  },
  {
   "cell_type": "code",
   "execution_count": 2,
   "id": "d9597d1d-52db-4d0d-b30d-784b5ae832d5",
   "metadata": {
    "tags": []
   },
   "outputs": [],
   "source": [
    "spark = SparkSession.builder.appName('My app').getOrCreate()"
   ]
  },
  {
   "cell_type": "code",
   "execution_count": 3,
   "id": "26c6b30b-25b8-4552-acf0-67f73256b51d",
   "metadata": {
    "tags": []
   },
   "outputs": [],
   "source": [
    "# opening dataset from hospital management system\n",
    "df = spark.read.csv(r\"C:\\Users\\jusep\\OneDrive\\Desktop\\dataset.csv\",header=True,inferSchema=True)"
   ]
  },
  {
   "cell_type": "code",
   "execution_count": 4,
   "id": "09737f13-8bc8-45a7-bfeb-e81d2a14ad3d",
   "metadata": {
    "tags": []
   },
   "outputs": [
    {
     "name": "stdout",
     "output_type": "stream",
     "text": [
      "+----------+---+------+--------+---------+---------+----+-----------------------+------------------------+-----------------+---------------+---------------+------+--------+-------------+--------------------+--------------------+\n",
      "|patient_id|age|gender|    race|height_cm|weight_kg| bmi|blood_pressure_systolic|blood_pressure_diastolic|cholesterol_total|cholesterol_hdl|cholesterol_ldl|smoker|diabetes|heart_disease|         medications|         procedures |\n",
      "+----------+---+------+--------+---------+---------+----+-----------------------+------------------------+-----------------+---------------+---------------+------+--------+-------------+--------------------+--------------------+\n",
      "|         1| 45|     M|   White|      180|       90|27.8|                    130|                      85|              200|             50|            130|     1|       0|            0|lisinopril;metformin|        appendectomy|\n",
      "|         2| 62|     F|   Black|      165|       72|26.4|                    145|                      92|              240|             40|            170|     0|       1|            1|simvastatin;insul...|coronary artery b...|\n",
      "|         3| 38|     F|Hispanic|      155|       54|22.5|                    118|                      78|              160|             60|             85|     0|       0|            0|                NULL|                NULL|\n",
      "|         4| 55|     M|   Asian|      172|       83|28.1|                    136|                      88|              190|             45|            120|     1|       1|            0|atorvastatin;glip...|                NULL|\n",
      "|         5| 71|     M|   White|      178|       95|30.0|                    150|                      95|              220|             35|            160|     1|       0|            1|aspirin;atenolol;...|percutaneous coro...|\n",
      "|         6| 28|     F|   White|      163|       58|21.8|                    112|                      72|              150|             65|             70|     0|       0|            0|                NULL|                NULL|\n",
      "|         7| 50|     M|   Black|      185|      102|29.8|                    128|                      85|              180|             40|            110|     0|       1|            0|metformin;lisinopril|                NULL|\n",
      "|         8| 64|     F|   White|      160|       65|25.4|                    140|                      90|              260|             50|            180|     0|       0|            1|rosuvastatin;amlo...|coronary angioplasty|\n",
      "|         9| 42|     M|Hispanic|      175|       80|26.1|                    125|                      80|              210|             55|            140|     0|       0|            0|                NULL|                NULL|\n",
      "|        10| 59|     F|   Asian|      158|       60|24.0|                    135|                      85|              200|             60|            120|     0|       1|            0|glimepiride;lisin...|                NULL|\n",
      "+----------+---+------+--------+---------+---------+----+-----------------------+------------------------+-----------------+---------------+---------------+------+--------+-------------+--------------------+--------------------+\n",
      "\n"
     ]
    }
   ],
   "source": [
    "df.show()"
   ]
  },
  {
   "cell_type": "markdown",
   "id": "c9ef6c6f-c575-476b-b263-2ea2ceda5797",
   "metadata": {},
   "source": [
    "### Descriptive summary of total cholesterol measurements"
   ]
  },
  {
   "cell_type": "code",
   "execution_count": 6,
   "id": "c3f9b3e6-dc3b-4837-b0b3-d5f3ec2a73e2",
   "metadata": {
    "tags": []
   },
   "outputs": [
    {
     "name": "stdout",
     "output_type": "stream",
     "text": [
      "+-------+-----------------+\n",
      "|summary|cholesterol_total|\n",
      "+-------+-----------------+\n",
      "|  count|               10|\n",
      "|   mean|            201.0|\n",
      "| stddev|33.81321240777535|\n",
      "|    min|              150|\n",
      "|    max|              260|\n",
      "+-------+-----------------+\n",
      "\n"
     ]
    }
   ],
   "source": [
    "df.select('cholesterol_total').describe().show()"
   ]
  },
  {
   "cell_type": "markdown",
   "id": "5f375e78-df60-47d3-96d3-ec957dd7d1b7",
   "metadata": {},
   "source": [
    "### Descriptive summary of patients' age "
   ]
  },
  {
   "cell_type": "code",
   "execution_count": 7,
   "id": "8ccd487c-d6a6-46dc-941f-b0b02a03064d",
   "metadata": {
    "tags": []
   },
   "outputs": [
    {
     "name": "stdout",
     "output_type": "stream",
     "text": [
      "+-------+------------------+\n",
      "|summary|               age|\n",
      "+-------+------------------+\n",
      "|  count|                10|\n",
      "|   mean|              51.4|\n",
      "| stddev|13.268174118711453|\n",
      "|    min|                28|\n",
      "|    max|                71|\n",
      "+-------+------------------+\n",
      "\n"
     ]
    }
   ],
   "source": [
    "# Summary statistics of Age attributes of patient\n",
    "df.select('age').describe().show()"
   ]
  },
  {
   "cell_type": "markdown",
   "id": "16ab65ea-f7e2-4a01-9fd6-2f324b5a30f7",
   "metadata": {},
   "source": [
    " Average age of patients is 51.4 years with standard deviation of 13yrs. Maximum age is 71yrs and lowest age is 28yrs"
   ]
  },
  {
   "cell_type": "code",
   "execution_count": 8,
   "id": "d80ccb01-cb7e-4b88-a23e-e4c90dec206b",
   "metadata": {
    "tags": []
   },
   "outputs": [
    {
     "name": "stdout",
     "output_type": "stream",
     "text": [
      "+------+--------+\n",
      "|gender|avg(age)|\n",
      "+------+--------+\n",
      "|     F|    50.2|\n",
      "|     M|    52.6|\n",
      "+------+--------+\n",
      "\n"
     ]
    }
   ],
   "source": [
    "df.groupBy('gender').mean('age').show()"
   ]
  },
  {
   "cell_type": "markdown",
   "id": "4fa32a4b-f14a-44cb-86f2-7303bff96989",
   "metadata": {
    "tags": []
   },
   "source": [
    "Average age for male patients is 52.6 and for females its 50.2 years."
   ]
  },
  {
   "cell_type": "markdown",
   "id": "443f36ea-44d8-4efb-a3a7-6517b412be6d",
   "metadata": {},
   "source": [
    "### Comparison of total cholesterol measurement by Gender"
   ]
  },
  {
   "cell_type": "code",
   "execution_count": 9,
   "id": "1930dddf-3c44-4e80-b275-2d9cec462daf",
   "metadata": {
    "tags": []
   },
   "outputs": [
    {
     "name": "stdout",
     "output_type": "stream",
     "text": [
      "+------+----------------------+\n",
      "|gender|avg(cholesterol_total)|\n",
      "+------+----------------------+\n",
      "|     F|                 202.0|\n",
      "|     M|                 200.0|\n",
      "+------+----------------------+\n",
      "\n"
     ]
    }
   ],
   "source": [
    "df.groupBy('gender').mean('cholesterol_total').show()"
   ]
  },
  {
   "cell_type": "markdown",
   "id": "1c37172f-4e92-473a-90ee-fea80b865968",
   "metadata": {},
   "source": [
    "### Comparison of systolic pressure measurement by smoking habit"
   ]
  },
  {
   "cell_type": "code",
   "execution_count": 10,
   "id": "f90fb9dc-ddac-46f6-a323-3708ff320223",
   "metadata": {
    "tags": []
   },
   "outputs": [
    {
     "name": "stdout",
     "output_type": "stream",
     "text": [
      "+------+----------------------------+\n",
      "|smoker|avg(blood_pressure_systolic)|\n",
      "+------+----------------------------+\n",
      "|     1|          138.66666666666666|\n",
      "|     0|                       129.0|\n",
      "+------+----------------------------+\n",
      "\n"
     ]
    }
   ],
   "source": [
    "df.groupBy('smoker').mean('blood_pressure_systolic').show()"
   ]
  },
  {
   "cell_type": "markdown",
   "id": "f35804e7-a7af-48d4-bfcf-73afd2a8ec7f",
   "metadata": {},
   "source": [
    "There is difference in systolic pressure between smokers and non smokers demonstrating nearly 10mmHg higher in smokers"
   ]
  },
  {
   "cell_type": "code",
   "execution_count": 11,
   "id": "35719ed5-a58e-400d-ad9c-3a5d48e7625b",
   "metadata": {
    "tags": []
   },
   "outputs": [
    {
     "name": "stdout",
     "output_type": "stream",
     "text": [
      "+------+-----------------------------+\n",
      "|smoker|avg(blood_pressure_diastolic)|\n",
      "+------+-----------------------------+\n",
      "|     1|            89.33333333333333|\n",
      "|     0|            83.14285714285714|\n",
      "+------+-----------------------------+\n",
      "\n"
     ]
    }
   ],
   "source": [
    "df.groupBy('smoker').mean('blood_pressure_diastolic').show()"
   ]
  },
  {
   "cell_type": "markdown",
   "id": "3f3fd438-5fa5-48c3-9fb9-b4a5067009b0",
   "metadata": {
    "tags": []
   },
   "source": [
    "There is 5mmHg diastolic blood pressure difference between smokers vs non smokers patients."
   ]
  },
  {
   "cell_type": "markdown",
   "id": "85d85c3f-7cb2-4576-9a4f-9d4035d6b9a0",
   "metadata": {},
   "source": [
    "### Comparison of Total cholesterol measurement by smoking habit"
   ]
  },
  {
   "cell_type": "code",
   "execution_count": 12,
   "id": "e761e4a4-3232-4d19-8506-17e382c8768c",
   "metadata": {
    "tags": []
   },
   "outputs": [
    {
     "name": "stdout",
     "output_type": "stream",
     "text": [
      "+------+----------------------+\n",
      "|smoker|avg(cholesterol_total)|\n",
      "+------+----------------------+\n",
      "|     1|    203.33333333333334|\n",
      "|     0|                 200.0|\n",
      "+------+----------------------+\n",
      "\n"
     ]
    }
   ],
   "source": [
    "df.groupBy('smoker').mean('cholesterol_total').show()"
   ]
  },
  {
   "cell_type": "markdown",
   "id": "23384ed9-287d-4431-b170-8b66eccc689d",
   "metadata": {},
   "source": [
    "### Converting pyspark dataframe to pandas dataframe to do visualizations"
   ]
  },
  {
   "cell_type": "code",
   "execution_count": 16,
   "id": "6e1aabc5-d01d-4649-bd17-ffe2ab875f01",
   "metadata": {
    "tags": []
   },
   "outputs": [],
   "source": [
    "data = df.toPandas()"
   ]
  },
  {
   "cell_type": "code",
   "execution_count": 15,
   "id": "f50abb7f-35b0-46e4-8daf-8b7a2636f120",
   "metadata": {
    "tags": []
   },
   "outputs": [],
   "source": [
    "import pandas as pd\n",
    "import numpy as np\n",
    "import matplotlib.pyplot as plt\n",
    "import seaborn as sns"
   ]
  },
  {
   "cell_type": "markdown",
   "id": "4b5e5a82-7156-4d0f-a2c0-09d73d4dbdf8",
   "metadata": {},
   "source": [
    "### Scatter plot of Systolic vs Diastolic Pressue measurements"
   ]
  },
  {
   "cell_type": "code",
   "execution_count": 17,
   "id": "88a3a578-b4e3-420f-b8ee-d0a952178a37",
   "metadata": {
    "tags": []
   },
   "outputs": [
    {
     "data": {
      "image/png": "[encoded data removed]",
      "text/plain": [
       "<Figure size 640x480 with 1 Axes>"
      ]
     },
     "metadata": {},
     "output_type": "display_data"
    }
   ],
   "source": [
    "sns.scatterplot(data = data , x= 'blood_pressure_systolic',y='blood_pressure_diastolic');"
   ]
  },
  {
   "cell_type": "markdown",
   "id": "d16a2569-19c4-449e-956f-c20d9215cb9a",
   "metadata": {},
   "source": [
    "### Trend of blood pressure measurements with smoking habit"
   ]
  },
  {
   "cell_type": "code",
   "execution_count": 18,
   "id": "4e9b83ad-1c92-4e78-936f-a8f83f329778",
   "metadata": {
    "tags": []
   },
   "outputs": [
    {
     "data": {
      "image/png": "[encoded data removed]",
      "text/plain": [
       "<Figure size 640x480 with 1 Axes>"
      ]
     },
     "metadata": {},
     "output_type": "display_data"
    }
   ],
   "source": [
    "sns.scatterplot(data = data , x= 'blood_pressure_systolic',y='blood_pressure_diastolic',hue = 'smoker');"
   ]
  },
  {
   "cell_type": "markdown",
   "id": "0e731b14-80f0-42d1-afb0-51218e814976",
   "metadata": {},
   "source": [
    "scatterplot shows linear relation between systolic and diastolic pressure trend and higher readings in patients who smokes cigarretes."
   ]
  },
  {
   "cell_type": "code",
   "execution_count": 19,
   "id": "8b46c5d4-d9a2-4364-8646-a564259f3ba5",
   "metadata": {
    "tags": []
   },
   "outputs": [
    {
     "data": {
      "image/png": "[encoded data removed]",
      "text/plain": [
       "<Figure size 640x480 with 1 Axes>"
      ]
     },
     "metadata": {},
     "output_type": "display_data"
    }
   ],
   "source": [
    "sns.histplot(data = data , x='race',hue='race');"
   ]
  },
  {
   "cell_type": "markdown",
   "id": "9e4257b0-1d84-4acd-af89-f06d653d9a80",
   "metadata": {},
   "source": [
    "Histogram shows distribution of patients race background depicting higher white races than others"
   ]
  },
  {
   "cell_type": "code",
   "execution_count": null,
   "id": "57dd2b0c-990c-4f31-a560-ef6f5835fc8d",
   "metadata": {},
   "outputs": [],
   "source": []
  }
 ],
 "metadata": {
  "kernelspec": {
   "display_name": "Python 3 (ipykernel)",
   "language": "python",
   "name": "python3"
  },
  "language_info": {
   "codemirror_mode": {
    "name": "ipython",
    "version": 3
   },
   "file_extension": ".py",
   "mimetype": "text/x-python",
   "name": "python",
   "nbconvert_exporter": "python",
   "pygments_lexer": "ipython3",
   "version": "3.11.5"
  }
 },
 "nbformat": 4,
 "nbformat_minor": 5
}
